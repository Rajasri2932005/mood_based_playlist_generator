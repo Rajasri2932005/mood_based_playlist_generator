{
  "nbformat": 4,
  "nbformat_minor": 0,
  "metadata": {
    "colab": {
      "provenance": []
    },
    "kernelspec": {
      "name": "python3",
      "display_name": "Python 3"
    },
    "language_info": {
      "name": "python"
    }
  },
  "cells": [
    {
      "cell_type": "code",
      "execution_count": 1,
      "metadata": {
        "colab": {
          "base_uri": "https://localhost:8080/"
        },
        "id": "nJaV6WdLMIW_",
        "outputId": "312d82a8-3831-46f9-a1e8-2b75e9d3e9ac"
      },
      "outputs": [
        {
          "output_type": "stream",
          "name": "stdout",
          "text": [
            "💬 How are you feeling today? happy\n",
            "✅ Your mood is: happy\n",
            "🎧 Playlist: https://open.spotify.com/playlist/37i9dQZF1DXdPec7aLTmlC\n"
          ]
        }
      ],
      "source": [
        "# 🎵 Mood-Based Playlist Generator\n",
        "\n",
        "def get_playlist_for_mood(mood):\n",
        "    mood = mood.lower()\n",
        "\n",
        "    playlists = {\n",
        "        \"happy\": \"https://open.spotify.com/playlist/37i9dQZF1DXdPec7aLTmlC\",\n",
        "        \"sad\": \"https://open.spotify.com/playlist/37i9dQZF1DWVrtsSlLKzro\",\n",
        "        \"relaxed\": \"https://open.spotify.com/playlist/37i9dQZF1DX4sWSpwq3LiO\",\n",
        "        \"energetic\": \"https://open.spotify.com/playlist/37i9dQZF1DXdxcBWuJkbcy\"\n",
        "    }\n",
        "\n",
        "    for key in playlists:\n",
        "        if key in mood:\n",
        "            return f\"✅ Your mood is: {key}\\n🎧 Playlist: {playlists[key]}\"\n",
        "\n",
        "    return \"⚠️ Mood not recognized. Try using: happy, sad, relaxed, or energetic.\"\n",
        "\n",
        "# 👤 Ask the user for their mood\n",
        "user_mood = input(\"💬 How are you feeling today? \")\n",
        "\n",
        "# 🔄 Show playlist result\n",
        "print(get_playlist_for_mood(user_mood))\n"
      ]
    }
  ]
}